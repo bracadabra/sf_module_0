{
 "cells": [
  {
   "cell_type": "code",
   "execution_count": 2,
   "metadata": {},
   "outputs": [
    {
     "name": "stdout",
     "output_type": "stream",
     "text": [
      "Your algorithm guesses the number on average in 4 attempts\n"
     ]
    },
    {
     "data": {
      "text/plain": [
       "4"
      ]
     },
     "execution_count": 2,
     "metadata": {},
     "output_type": "execute_result"
    }
   ],
   "source": [
    "import numpy as np\n",
    "\n",
    "\n",
    "def game_core(number):\n",
    "    \"\"\"Guess a number with binary search\n",
    "\n",
    "    Keyword arguments:\n",
    "    number -- number to guess\n",
    "\n",
    "    \"\"\"\n",
    "    \n",
    "    count = 0\n",
    "    start = 0\n",
    "    end = 101\n",
    "    predict = end // 2\n",
    "    while number != predict:\n",
    "        count += 1\n",
    "        if number > predict:\n",
    "            start = predict\n",
    "            predict += (end - predict) // 2\n",
    "        elif number < predict:\n",
    "            end = predict\n",
    "            predict -= (predict - start) // 2\n",
    "\n",
    "    return count\n",
    "\n",
    "def score_game(game_core):\n",
    "    \"\"\"Launch game 1000 time to know how fast it guesses a number\"\"\"\n",
    "    count_ls = []\n",
    "    np.random.seed(1)\n",
    "    random_array = np.random.randint(1, 101, size=(1000))\n",
    "    for number in random_array:\n",
    "        count_ls.append(game_core(number))\n",
    "    score = int(np.mean(count_ls))\n",
    "    print(f\"Your algorithm guesses the number on average in {score} attempts\")\n",
    "    return score\n",
    "\n",
    "\n",
    "# Launch\n",
    "score_game(game_core)"
   ]
  },
  {
   "cell_type": "code",
   "execution_count": null,
   "metadata": {},
   "outputs": [],
   "source": []
  }
 ],
 "metadata": {
  "kernelspec": {
   "display_name": "Python 3",
   "language": "python",
   "name": "python3"
  },
  "language_info": {
   "codemirror_mode": {
    "name": "ipython",
    "version": 3
   },
   "file_extension": ".py",
   "mimetype": "text/x-python",
   "name": "python",
   "nbconvert_exporter": "python",
   "pygments_lexer": "ipython3",
   "version": "3.7.4"
  }
 },
 "nbformat": 4,
 "nbformat_minor": 2
}
